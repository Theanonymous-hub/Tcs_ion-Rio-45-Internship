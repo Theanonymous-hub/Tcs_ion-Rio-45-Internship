{
  "nbformat": 4,
  "nbformat_minor": 0,
  "metadata": {
    "colab": {
      "provenance": [],
      "collapsed_sections": []
    },
    "kernelspec": {
      "name": "python3",
      "display_name": "Python 3"
    },
    "language_info": {
      "name": "python"
    }
  },
  "cells": [
    {
      "cell_type": "code",
      "source": [
        "from google.colab import files\n",
        "uploaded = files.upload()"
      ],
      "metadata": {
        "colab": {
          "base_uri": "https://localhost:8080/",
          "height": 73
        },
        "id": "fhBVU2Dojt88",
        "outputId": "88649eb7-81c6-4421-f7e7-96bc74594298"
      },
      "execution_count": 2,
      "outputs": [
        {
          "output_type": "display_data",
          "data": {
            "text/plain": [
              "<IPython.core.display.HTML object>"
            ],
            "text/html": [
              "\n",
              "     <input type=\"file\" id=\"files-11ccd59e-2738-4422-beb5-91981f72a495\" name=\"files[]\" multiple disabled\n",
              "        style=\"border:none\" />\n",
              "     <output id=\"result-11ccd59e-2738-4422-beb5-91981f72a495\">\n",
              "      Upload widget is only available when the cell has been executed in the\n",
              "      current browser session. Please rerun this cell to enable.\n",
              "      </output>\n",
              "      <script>// Copyright 2017 Google LLC\n",
              "//\n",
              "// Licensed under the Apache License, Version 2.0 (the \"License\");\n",
              "// you may not use this file except in compliance with the License.\n",
              "// You may obtain a copy of the License at\n",
              "//\n",
              "//      http://www.apache.org/licenses/LICENSE-2.0\n",
              "//\n",
              "// Unless required by applicable law or agreed to in writing, software\n",
              "// distributed under the License is distributed on an \"AS IS\" BASIS,\n",
              "// WITHOUT WARRANTIES OR CONDITIONS OF ANY KIND, either express or implied.\n",
              "// See the License for the specific language governing permissions and\n",
              "// limitations under the License.\n",
              "\n",
              "/**\n",
              " * @fileoverview Helpers for google.colab Python module.\n",
              " */\n",
              "(function(scope) {\n",
              "function span(text, styleAttributes = {}) {\n",
              "  const element = document.createElement('span');\n",
              "  element.textContent = text;\n",
              "  for (const key of Object.keys(styleAttributes)) {\n",
              "    element.style[key] = styleAttributes[key];\n",
              "  }\n",
              "  return element;\n",
              "}\n",
              "\n",
              "// Max number of bytes which will be uploaded at a time.\n",
              "const MAX_PAYLOAD_SIZE = 100 * 1024;\n",
              "\n",
              "function _uploadFiles(inputId, outputId) {\n",
              "  const steps = uploadFilesStep(inputId, outputId);\n",
              "  const outputElement = document.getElementById(outputId);\n",
              "  // Cache steps on the outputElement to make it available for the next call\n",
              "  // to uploadFilesContinue from Python.\n",
              "  outputElement.steps = steps;\n",
              "\n",
              "  return _uploadFilesContinue(outputId);\n",
              "}\n",
              "\n",
              "// This is roughly an async generator (not supported in the browser yet),\n",
              "// where there are multiple asynchronous steps and the Python side is going\n",
              "// to poll for completion of each step.\n",
              "// This uses a Promise to block the python side on completion of each step,\n",
              "// then passes the result of the previous step as the input to the next step.\n",
              "function _uploadFilesContinue(outputId) {\n",
              "  const outputElement = document.getElementById(outputId);\n",
              "  const steps = outputElement.steps;\n",
              "\n",
              "  const next = steps.next(outputElement.lastPromiseValue);\n",
              "  return Promise.resolve(next.value.promise).then((value) => {\n",
              "    // Cache the last promise value to make it available to the next\n",
              "    // step of the generator.\n",
              "    outputElement.lastPromiseValue = value;\n",
              "    return next.value.response;\n",
              "  });\n",
              "}\n",
              "\n",
              "/**\n",
              " * Generator function which is called between each async step of the upload\n",
              " * process.\n",
              " * @param {string} inputId Element ID of the input file picker element.\n",
              " * @param {string} outputId Element ID of the output display.\n",
              " * @return {!Iterable<!Object>} Iterable of next steps.\n",
              " */\n",
              "function* uploadFilesStep(inputId, outputId) {\n",
              "  const inputElement = document.getElementById(inputId);\n",
              "  inputElement.disabled = false;\n",
              "\n",
              "  const outputElement = document.getElementById(outputId);\n",
              "  outputElement.innerHTML = '';\n",
              "\n",
              "  const pickedPromise = new Promise((resolve) => {\n",
              "    inputElement.addEventListener('change', (e) => {\n",
              "      resolve(e.target.files);\n",
              "    });\n",
              "  });\n",
              "\n",
              "  const cancel = document.createElement('button');\n",
              "  inputElement.parentElement.appendChild(cancel);\n",
              "  cancel.textContent = 'Cancel upload';\n",
              "  const cancelPromise = new Promise((resolve) => {\n",
              "    cancel.onclick = () => {\n",
              "      resolve(null);\n",
              "    };\n",
              "  });\n",
              "\n",
              "  // Wait for the user to pick the files.\n",
              "  const files = yield {\n",
              "    promise: Promise.race([pickedPromise, cancelPromise]),\n",
              "    response: {\n",
              "      action: 'starting',\n",
              "    }\n",
              "  };\n",
              "\n",
              "  cancel.remove();\n",
              "\n",
              "  // Disable the input element since further picks are not allowed.\n",
              "  inputElement.disabled = true;\n",
              "\n",
              "  if (!files) {\n",
              "    return {\n",
              "      response: {\n",
              "        action: 'complete',\n",
              "      }\n",
              "    };\n",
              "  }\n",
              "\n",
              "  for (const file of files) {\n",
              "    const li = document.createElement('li');\n",
              "    li.append(span(file.name, {fontWeight: 'bold'}));\n",
              "    li.append(span(\n",
              "        `(${file.type || 'n/a'}) - ${file.size} bytes, ` +\n",
              "        `last modified: ${\n",
              "            file.lastModifiedDate ? file.lastModifiedDate.toLocaleDateString() :\n",
              "                                    'n/a'} - `));\n",
              "    const percent = span('0% done');\n",
              "    li.appendChild(percent);\n",
              "\n",
              "    outputElement.appendChild(li);\n",
              "\n",
              "    const fileDataPromise = new Promise((resolve) => {\n",
              "      const reader = new FileReader();\n",
              "      reader.onload = (e) => {\n",
              "        resolve(e.target.result);\n",
              "      };\n",
              "      reader.readAsArrayBuffer(file);\n",
              "    });\n",
              "    // Wait for the data to be ready.\n",
              "    let fileData = yield {\n",
              "      promise: fileDataPromise,\n",
              "      response: {\n",
              "        action: 'continue',\n",
              "      }\n",
              "    };\n",
              "\n",
              "    // Use a chunked sending to avoid message size limits. See b/62115660.\n",
              "    let position = 0;\n",
              "    do {\n",
              "      const length = Math.min(fileData.byteLength - position, MAX_PAYLOAD_SIZE);\n",
              "      const chunk = new Uint8Array(fileData, position, length);\n",
              "      position += length;\n",
              "\n",
              "      const base64 = btoa(String.fromCharCode.apply(null, chunk));\n",
              "      yield {\n",
              "        response: {\n",
              "          action: 'append',\n",
              "          file: file.name,\n",
              "          data: base64,\n",
              "        },\n",
              "      };\n",
              "\n",
              "      let percentDone = fileData.byteLength === 0 ?\n",
              "          100 :\n",
              "          Math.round((position / fileData.byteLength) * 100);\n",
              "      percent.textContent = `${percentDone}% done`;\n",
              "\n",
              "    } while (position < fileData.byteLength);\n",
              "  }\n",
              "\n",
              "  // All done.\n",
              "  yield {\n",
              "    response: {\n",
              "      action: 'complete',\n",
              "    }\n",
              "  };\n",
              "}\n",
              "\n",
              "scope.google = scope.google || {};\n",
              "scope.google.colab = scope.google.colab || {};\n",
              "scope.google.colab._files = {\n",
              "  _uploadFiles,\n",
              "  _uploadFilesContinue,\n",
              "};\n",
              "})(self);\n",
              "</script> "
            ]
          },
          "metadata": {}
        },
        {
          "output_type": "stream",
          "name": "stdout",
          "text": [
            "Saving Books_small_10000.json to Books_small_10000.json\n"
          ]
        }
      ]
    },
    {
      "cell_type": "markdown",
      "source": [
        "**Data Class**"
      ],
      "metadata": {
        "id": "lZT5jenqL4nO"
      }
    },
    {
      "cell_type": "code",
      "source": [
        "import random\n",
        "class Sentiment:\n",
        "    NEGATIVE = \"NEGATIVE\"\n",
        "    NEUTRAL = \"NEUTRAL\"\n",
        "    POSITIVE = \"POSITIVE\"\n",
        "class Review:\n",
        "    def __init__(self, text, score):\n",
        "        self.text = text\n",
        "        self.score = score\n",
        "        self.sentiment = self.get_sentiment()\n",
        "        \n",
        "    def get_sentiment(self):\n",
        "        if self.score <= 2:\n",
        "            return Sentiment.NEGATIVE\n",
        "        elif self.score == 3:\n",
        "            return Sentiment.NEUTRAL\n",
        "        else: #Score of 4 or 5\n",
        "            return Sentiment.POSITIVE\n",
        "\n",
        "class ReviewContainer:\n",
        "    def __init__(self, reviews):\n",
        "        self.reviews = reviews\n",
        "        \n",
        "    def get_text(self):\n",
        "        return [x.text for x in self.reviews]\n",
        "    \n",
        "    def get_sentiment(self):\n",
        "        return [x.sentiment for x in self.reviews]\n",
        "        \n",
        "    def evenly_distribute(self):\n",
        "        negative = list(filter(lambda x: x.sentiment == Sentiment.NEGATIVE, self.reviews))\n",
        "        positive = list(filter(lambda x: x.sentiment == Sentiment.POSITIVE, self.reviews))\n",
        "        neutral = list(filter(lambda x: x.sentiment == Sentiment.NEUTRAL, self.reviews))\n",
        "        positive_shrunk = positive[:len(negative)]\n",
        "        self.reviews = negative + positive_shrunk\n",
        "        random.shuffle(self.reviews)\n",
        "        \n",
        "\n"
      ],
      "metadata": {
        "id": "fKtFuRx4SuNL"
      },
      "execution_count": 127,
      "outputs": []
    },
    {
      "cell_type": "markdown",
      "source": [
        "**Dataset Loading**"
      ],
      "metadata": {
        "id": "WSzw95FwLuEs"
      }
    },
    {
      "cell_type": "code",
      "source": [
        "import json\n",
        "file_name ='Books_small_10000.json'\n",
        "reviews = []\n",
        "with open(file_name) as f:\n",
        "    for line in f:\n",
        "        review =json.loads(line)\n",
        "        reviews.append(Review(review['reviewText'], review['overall']))\n",
        "reviews[50].sentiment"
      ],
      "metadata": {
        "colab": {
          "base_uri": "https://localhost:8080/",
          "height": 35
        },
        "id": "3Ka4KjwGm5h_",
        "outputId": "676acfc4-c5e5-48b2-a818-f23eb5bb32c2"
      },
      "execution_count": 16,
      "outputs": [
        {
          "output_type": "execute_result",
          "data": {
            "text/plain": [
              "'NEGATIVE'"
            ],
            "application/vnd.google.colaboratory.intrinsic+json": {
              "type": "string"
            }
          },
          "metadata": {},
          "execution_count": 16
        }
      ]
    },
    {
      "cell_type": "code",
      "source": [
        "len(reviews)"
      ],
      "metadata": {
        "colab": {
          "base_uri": "https://localhost:8080/"
        },
        "id": "nJhZJqQTSsBc",
        "outputId": "704d201d-0071-4c52-9c15-9d530d8490f5"
      },
      "execution_count": 19,
      "outputs": [
        {
          "output_type": "execute_result",
          "data": {
            "text/plain": [
              "10000"
            ]
          },
          "metadata": {},
          "execution_count": 19
        }
      ]
    },
    {
      "cell_type": "code",
      "source": [
        "from sklearn.model_selection import train_test_split\n",
        "\n",
        "training, test = train_test_split(reviews, test_size=0.33, random_state=42)\n"
      ],
      "metadata": {
        "id": "2ZO_V9-jq48A"
      },
      "execution_count": 24,
      "outputs": []
    },
    {
      "cell_type": "markdown",
      "source": [
        "**Training**"
      ],
      "metadata": {
        "id": "hlmb3WCqe4YS"
      }
    },
    {
      "cell_type": "code",
      "source": [
        "train_container = ReviewContainer(training)\n",
        "\n",
        "test_container = ReviewContainer(test)\n",
        "train_container.evenly_distribute()\n",
        "train_x = train_container.get_text()\n",
        "train_y = train_container.get_sentiment()\n",
        "\n",
        "test_container.evenly_distribute()\n",
        "test_x = test_container.get_text()\n",
        "test_y = test_container.get_sentiment()\n",
        "\n",
        "print(train_y.count(Sentiment.POSITIVE))\n",
        "print(train_y.count(Sentiment.NEGATIVE))\n",
        "print(train_y.count(Sentiment.NEUTRAL))"
      ],
      "metadata": {
        "colab": {
          "base_uri": "https://localhost:8080/"
        },
        "id": "enfnghQydU1N",
        "outputId": "426edab5-93bd-4ea9-9149-fbb4ca3a2e0a"
      },
      "execution_count": 95,
      "outputs": [
        {
          "output_type": "stream",
          "name": "stdout",
          "text": [
            "436\n",
            "436\n",
            "0\n"
          ]
        }
      ]
    },
    {
      "cell_type": "markdown",
      "source": [
        "**Vectorization**"
      ],
      "metadata": {
        "id": "o6Ye8rU5e_6d"
      }
    },
    {
      "cell_type": "code",
      "source": [
        "from sklearn.feature_extraction.text import CountVectorizer, TfidfVectorizer\n",
        "vectorizer =CountVectorizer()\n",
        "vectorizer.fit_transform(train_x)"
      ],
      "metadata": {
        "colab": {
          "base_uri": "https://localhost:8080/"
        },
        "id": "enLNbrJgkUju",
        "outputId": "72f0de0c-4b8d-46bb-b55d-b08fd50ab1ce"
      },
      "execution_count": 35,
      "outputs": [
        {
          "output_type": "execute_result",
          "data": {
            "text/plain": [
              "<3300x18643 sparse matrix of type '<class 'numpy.int64'>'\n",
              "\twith 211314 stored elements in Compressed Sparse Row format>"
            ]
          },
          "metadata": {},
          "execution_count": 35
        }
      ]
    },
    {
      "cell_type": "code",
      "source": [
        "from sklearn.feature_extraction.text import CountVectorizer, TfidfVectorizer\n",
        "vectorizer = TfidfVectorizer()\n",
        "train_x_vectors = vectorizer.fit_transform(train_x)\n",
        "\n",
        "test_x_vectors = vectorizer.transform(test_x)\n",
        " \n",
        "print(train_x[1])\n",
        "print(train_x_vectors[1].toarray())"
      ],
      "metadata": {
        "colab": {
          "base_uri": "https://localhost:8080/"
        },
        "id": "pdq2Ond4e-9h",
        "outputId": "3daa2f1c-f8e4-4211-9ea2-86f5572151ba"
      },
      "execution_count": 47,
      "outputs": [
        {
          "output_type": "stream",
          "name": "stdout",
          "text": [
            "The story told here is powerful yet softly delivered with beautiful imagery of orchids delivered at crucial moments in the heroine's life.  What did they mean?  I was hooked and had to keep reading.  Great for romantics who love a nice read!\n",
            "[[0. 0. 0. ... 0. 0. 0.]]\n"
          ]
        }
      ]
    },
    {
      "cell_type": "markdown",
      "source": [
        "**Classification**"
      ],
      "metadata": {
        "id": "C1NtoTL9mtnR"
      }
    },
    {
      "cell_type": "markdown",
      "source": [
        "Linear SVM\n",
        " "
      ],
      "metadata": {
        "id": "tym06cICm9k0"
      }
    },
    {
      "cell_type": "code",
      "source": [
        "from sklearn import svm\n",
        "clf_svm =svm.SVC(kernel='linear')\n",
        "clf_svm.fit(train_x_vectors,train_y)\n",
        "test_x[0]\n",
        "#test_x_vectors[0]\n",
        "clf_svm.predict(test_x_vectors[0])"
      ],
      "metadata": {
        "colab": {
          "base_uri": "https://localhost:8080/"
        },
        "id": "c3LBizg9my9T",
        "outputId": "d59c85bb-f920-4fcf-a069-736966f990c7"
      },
      "execution_count": 50,
      "outputs": [
        {
          "output_type": "execute_result",
          "data": {
            "text/plain": [
              "array(['POSITIVE'], dtype='<U8')"
            ]
          },
          "metadata": {},
          "execution_count": 50
        }
      ]
    },
    {
      "cell_type": "markdown",
      "source": [
        "Decision Tree"
      ],
      "metadata": {
        "id": "mhT6UycRr6xc"
      }
    },
    {
      "cell_type": "code",
      "source": [
        "from sklearn.tree import DecisionTreeClassifier\n",
        "\n",
        "clf_dec = DecisionTreeClassifier()\n",
        "clf_dec.fit(train_x_vectors,train_y)\n",
        "clf_dec.predict(test_x_vectors[0])"
      ],
      "metadata": {
        "colab": {
          "base_uri": "https://localhost:8080/"
        },
        "id": "FkEzMNQ2r4KA",
        "outputId": "b7d5f863-7025-4da1-c136-0c408b20d513"
      },
      "execution_count": 57,
      "outputs": [
        {
          "output_type": "execute_result",
          "data": {
            "text/plain": [
              "array(['POSITIVE'], dtype='<U8')"
            ]
          },
          "metadata": {},
          "execution_count": 57
        }
      ]
    },
    {
      "cell_type": "markdown",
      "source": [
        "Logistic Regression"
      ],
      "metadata": {
        "id": "fGuOkuZyxXFi"
      }
    },
    {
      "cell_type": "code",
      "source": [
        "from sklearn.linear_model import LogisticRegression\n",
        "\n",
        "clf_log = LogisticRegression()\n",
        "clf_log.fit(train_x_vectors,train_y)\n",
        "clf_log.predict(test_x_vectors[0])\n"
      ],
      "metadata": {
        "colab": {
          "base_uri": "https://localhost:8080/"
        },
        "id": "YWNvuxMjxbQD",
        "outputId": "65a31d04-4184-4b39-aa19-58e016b1bfe8"
      },
      "execution_count": 72,
      "outputs": [
        {
          "output_type": "execute_result",
          "data": {
            "text/plain": [
              "array(['POSITIVE'], dtype='<U8')"
            ]
          },
          "metadata": {},
          "execution_count": 72
        }
      ]
    },
    {
      "cell_type": "markdown",
      "source": [
        "**Evaluation**"
      ],
      "metadata": {
        "id": "IZrYS8lFyKJ7"
      }
    },
    {
      "cell_type": "code",
      "source": [
        "#Mean Accuracy\n",
        "print (clf_svm.score(test_x_vectors,test_y))\n",
        "print (clf_dec.score(test_x_vectors,test_y))\n",
        "#print (clf_gnb.score(test_x_vectors,test_y))\n",
        "print (clf_log.score(test_x_vectors,test_y))"
      ],
      "metadata": {
        "colab": {
          "base_uri": "https://localhost:8080/"
        },
        "id": "Ro6Aw1_jyN9q",
        "outputId": "ef47286d-99ab-4c24-e5af-0c4a141aee34"
      },
      "execution_count": 78,
      "outputs": [
        {
          "output_type": "stream",
          "name": "stdout",
          "text": [
            "0.8076923076923077\n",
            "0.6370192307692307\n",
            "0.8052884615384616\n"
          ]
        }
      ]
    },
    {
      "cell_type": "markdown",
      "source": [
        "**F1 Score**\n"
      ],
      "metadata": {
        "id": "8n4Z0UK-zMoI"
      }
    },
    {
      "cell_type": "code",
      "source": [
        "from sklearn.metrics import f1_score\n",
        "f1_score(test_y, clf_svm.predict(test_x_vectors), average=None, labels=[Sentiment.POSITIVE,Sentiment.NEGATIVE])\n"
      ],
      "metadata": {
        "colab": {
          "base_uri": "https://localhost:8080/"
        },
        "id": "V_VYNCYczPpn",
        "outputId": "26ebf435-8e71-4f3b-ad64-6c6dfb64c510"
      },
      "execution_count": 86,
      "outputs": [
        {
          "output_type": "execute_result",
          "data": {
            "text/plain": [
              "array([0.80582524, 0.80952381])"
            ]
          },
          "metadata": {},
          "execution_count": 86
        }
      ]
    },
    {
      "cell_type": "code",
      "source": [
        "train_y.count(Sentiment.POSITIVE)"
      ],
      "metadata": {
        "colab": {
          "base_uri": "https://localhost:8080/"
        },
        "id": "Gwq0yEpP3Rvx",
        "outputId": "6efa37fe-5db4-4828-844d-100a2deb2716"
      },
      "execution_count": 105,
      "outputs": [
        {
          "output_type": "execute_result",
          "data": {
            "text/plain": [
              "436"
            ]
          },
          "metadata": {},
          "execution_count": 105
        }
      ]
    },
    {
      "cell_type": "code",
      "source": [
        "test_set = ['very fun', 'Wonderful', 'horrible waste of time']\n",
        "new_test = vectorizer.transform(test_set)\n",
        "\n",
        "clf_svm.predict(new_test)"
      ],
      "metadata": {
        "colab": {
          "base_uri": "https://localhost:8080/"
        },
        "id": "-Ia72fkI59D6",
        "outputId": "91a11101-117e-4f34-9602-f9dcb0280f7a"
      },
      "execution_count": 101,
      "outputs": [
        {
          "output_type": "execute_result",
          "data": {
            "text/plain": [
              "array(['POSITIVE', 'POSITIVE', 'NEGATIVE'], dtype='<U8')"
            ]
          },
          "metadata": {},
          "execution_count": 101
        }
      ]
    },
    {
      "cell_type": "markdown",
      "source": [
        "**Grid Search**"
      ],
      "metadata": {
        "id": "J5Kg3boTLbX8"
      }
    },
    {
      "cell_type": "code",
      "source": [
        "from sklearn.model_selection import GridSearchCV\n",
        "\n",
        "parameters = {'kernel': ('linear', 'rbf'), 'C': (1,4,8,16,32)}\n",
        "\n",
        "svc = svm.SVC()\n",
        "clf = GridSearchCV(svc, parameters, cv=5)\n",
        "clf.fit(train_x_vectors, train_y)\n"
      ],
      "metadata": {
        "colab": {
          "base_uri": "https://localhost:8080/"
        },
        "id": "vplzj87j6cjm",
        "outputId": "cada7ab2-b2c8-48ac-8b24-2f06b5853642"
      },
      "execution_count": 107,
      "outputs": [
        {
          "output_type": "execute_result",
          "data": {
            "text/plain": [
              "GridSearchCV(cv=5, estimator=SVC(),\n",
              "             param_grid={'C': (1, 4, 8, 16, 32), 'kernel': ('linear', 'rbf')})"
            ]
          },
          "metadata": {},
          "execution_count": 107
        }
      ]
    },
    {
      "cell_type": "code",
      "source": [
        "print(clf.score(test_x_vectors,test_y))"
      ],
      "metadata": {
        "colab": {
          "base_uri": "https://localhost:8080/"
        },
        "id": "gwEze5oxAm-i",
        "outputId": "b8cc176e-c3a4-4402-a624-527bbfceb011"
      },
      "execution_count": 108,
      "outputs": [
        {
          "output_type": "stream",
          "name": "stdout",
          "text": [
            "0.5480769230769231\n"
          ]
        }
      ]
    }
  ]
}